{
 "cells": [
  {
   "cell_type": "markdown",
   "metadata": {},
   "source": [
    "# VERYBOARD PROJECT"
   ]
  },
  {
   "cell_type": "markdown",
   "metadata": {},
   "source": [
    "## Contexte"
   ]
  },
  {
   "cell_type": "markdown",
   "metadata": {},
   "source": [
    "Dans le cadre de notre workshop à l'EPSI Paris, les E2/I2 ont pour sujet cette année 2024/2025 :\n",
    "- Comment assainir les réseaux sociaux"
   ]
  },
  {
   "cell_type": "markdown",
   "metadata": {},
   "source": [
    "## Groupe :\n",
    "- Greg MARIC\n",
    "- Christian CHIRIC\n",
    "- Iliès HASSAB\n",
    "- Hakim SABER"
   ]
  },
  {
   "cell_type": "markdown",
   "metadata": {},
   "source": [
    "## Proposition"
   ]
  },
  {
   "cell_type": "markdown",
   "metadata": {},
   "source": [
    "Afin de répondre au sujet de cette année, nous avons dégager la problématique suivante :\n",
    "- La propagation  des fausses informations sur les différents médium.\n",
    "\n",
    "Pour ce faire nous proposons la solution suivante :\n",
    "- Détection des fausses informations.\n",
    "- Un dashboard de visualisation et d'analyse de la présence fausse information sur les réseaux sociaux."
   ]
  },
  {
   "cell_type": "markdown",
   "metadata": {},
   "source": [
    "## Objectif"
   ]
  },
  {
   "cell_type": "markdown",
   "metadata": {},
   "source": [
    "L'objectif de ce notebook est de découvrir d'étudier et développer les différentes solutions IA pour la détéction de fausse informations"
   ]
  },
  {
   "cell_type": "markdown",
   "metadata": {},
   "source": [
    "## Etude des datasets"
   ]
  },
  {
   "cell_type": "markdown",
   "metadata": {},
   "source": []
  }
 ],
 "metadata": {
  "language_info": {
   "name": "python"
  }
 },
 "nbformat": 4,
 "nbformat_minor": 2
}
